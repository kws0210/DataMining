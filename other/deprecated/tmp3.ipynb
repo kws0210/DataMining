{
 "cells": [
  {
   "cell_type": "code",
   "execution_count": 1,
   "metadata": {},
   "outputs": [
    {
     "name": "stderr",
     "output_type": "stream",
     "text": [
      "/home/ubuntu/anaconda3/envs/tensorflow_p36/lib/python3.6/site-packages/matplotlib/__init__.py:1057: UserWarning: Duplicate key in file \"/home/ubuntu/.config/matplotlib/matplotlibrc\", line #2\n",
      "  (fname, cnt))\n",
      "/home/ubuntu/anaconda3/envs/tensorflow_p36/lib/python3.6/site-packages/matplotlib/__init__.py:1057: UserWarning: Duplicate key in file \"/home/ubuntu/.config/matplotlib/matplotlibrc\", line #3\n",
      "  (fname, cnt))\n"
     ]
    }
   ],
   "source": [
    "import numpy as np\n",
    "import pandas as pd\n",
    "import seaborn as sns\n",
    "import matplotlib.pyplot as plt\n",
    "import sys, requests, shutil, os\n",
    "from urllib import request, error\n",
    "from skimage import io\n",
    "from skimage.transform import resize\n",
    "import time\n",
    "\n",
    "%matplotlib inline"
   ]
  },
  {
   "cell_type": "markdown",
   "metadata": {},
   "source": [
    "# Load the data set"
   ]
  },
  {
   "cell_type": "markdown",
   "metadata": {},
   "source": [
    "* There are totally 1,225,029 training images and 117,703 test images. \n",
    "* Totoally 14,951 landmarks"
   ]
  },
  {
   "cell_type": "code",
   "execution_count": 2,
   "metadata": {},
   "outputs": [
    {
     "name": "stdout",
     "output_type": "stream",
     "text": [
      "Train:\t\t (1225029, 3)\n"
     ]
    }
   ],
   "source": [
    "train = pd.read_csv('./data/train.csv')\n",
    "print('Train:\\t\\t', train.shape)"
   ]
  },
  {
   "cell_type": "markdown",
   "metadata": {},
   "source": [
    "# Download Images"
   ]
  },
  {
   "cell_type": "code",
   "execution_count": 3,
   "metadata": {},
   "outputs": [],
   "source": [
    "def fetch_image(url):\n",
    "    \"\"\" Get image from given url \"\"\"\n",
    "    response=requests.get(url, stream=True)\n",
    "    \n",
    "    with open('./data/image_3.jpg', 'wb') as out_file:\n",
    "        shutil.copyfileobj(response.raw, out_file)\n",
    "        \n",
    "    del response"
   ]
  },
  {
   "cell_type": "code",
   "execution_count": 4,
   "metadata": {},
   "outputs": [
    {
     "name": "stdout",
     "output_type": "stream",
     "text": [
      "\n",
      "Process:    300000    Used time: 0.0 s\n",
      "================================================================================\n",
      "Process:    310000    Used time: 2229.0 s\n",
      "================================================================================\n",
      "Process:    320000    Used time: 2371.0 s\n",
      "================================================================================\n",
      "Process:    330000    Used time: 1859.0 s\n",
      "================================================================================\n",
      "Process:    340000    Used time: 2198.0 s\n",
      "================================================================================\n",
      "Process:    350000    Used time: 2227.0 s\n",
      "================================================================================\n",
      "Process:    360000    Used time: 2347.0 s\n",
      "================================================================================\n",
      "Process:    370000    Used time: 2194.0 s\n",
      "================================================================================\n",
      "Process:    380000    Used time: 1967.0 s\n",
      "================================================================================\n",
      "Process:    390000    Used time: 2230.0 s\n",
      "================================================================================"
     ]
    }
   ],
   "source": [
    "# Download images to ./train/\n",
    "urls = train['url'].values\n",
    "t0 = time.time()\n",
    "\n",
    "# Loop through urls to download images\n",
    "for idx in range(300000, 400000):\n",
    "    url = urls[idx]\n",
    "    # Check if already downloaded\n",
    "    if os.path.exists('./data/tmp3/' + str(idx) + '.jpg'):\n",
    "        continue\n",
    "        \n",
    "    # Get image from url\n",
    "    fetch_image(url)\n",
    "    os.rename('./data/image_3.jpg', './data/tmp3/'+ str(idx) + '.jpg')\n",
    "    \n",
    "    # Helpful information\n",
    "    if idx % 10000 == 0:\n",
    "        t = time.time() - t0\n",
    "        print('\\nProcess: {:9d}'.format(idx), '   Used time: {} s'.format(np.round(t, 0)))\n",
    "        t0 = time.time()\n",
    "    if idx % 125 == 0:\n",
    "        print('=', end='')"
   ]
  },
  {
   "cell_type": "code",
   "execution_count": null,
   "metadata": {},
   "outputs": [],
   "source": []
  }
 ],
 "metadata": {
  "kernelspec": {
   "display_name": "Environment (conda_tensorflow_p36)",
   "language": "python",
   "name": "conda_tensorflow_p36"
  },
  "language_info": {
   "codemirror_mode": {
    "name": "ipython",
    "version": 3
   },
   "file_extension": ".py",
   "mimetype": "text/x-python",
   "name": "python",
   "nbconvert_exporter": "python",
   "pygments_lexer": "ipython3",
   "version": "3.6.4"
  }
 },
 "nbformat": 4,
 "nbformat_minor": 2
}
