{
 "cells": [
  {
   "cell_type": "code",
   "execution_count": 1,
   "metadata": {},
   "outputs": [
    {
     "name": "stderr",
     "output_type": "stream",
     "text": [
      "/home/ubuntu/anaconda3/envs/tensorflow_p36/lib/python3.6/site-packages/matplotlib/__init__.py:1057: UserWarning: Duplicate key in file \"/home/ubuntu/.config/matplotlib/matplotlibrc\", line #2\n",
      "  (fname, cnt))\n",
      "/home/ubuntu/anaconda3/envs/tensorflow_p36/lib/python3.6/site-packages/matplotlib/__init__.py:1057: UserWarning: Duplicate key in file \"/home/ubuntu/.config/matplotlib/matplotlibrc\", line #3\n",
      "  (fname, cnt))\n"
     ]
    }
   ],
   "source": [
    "import numpy as np\n",
    "import pandas as pd\n",
    "import seaborn as sns\n",
    "import matplotlib.pyplot as plt\n",
    "import sys, requests, shutil, os\n",
    "from urllib import request, error\n",
    "from skimage import io\n",
    "from skimage.transform import resize\n",
    "import time\n",
    "\n",
    "%matplotlib inline"
   ]
  },
  {
   "cell_type": "markdown",
   "metadata": {},
   "source": [
    "# Load the data set"
   ]
  },
  {
   "cell_type": "markdown",
   "metadata": {},
   "source": [
    "* There are totally 1,225,029 training images and 117,703 test images. \n",
    "* Totoally 14,951 landmarks"
   ]
  },
  {
   "cell_type": "code",
   "execution_count": 2,
   "metadata": {},
   "outputs": [
    {
     "name": "stdout",
     "output_type": "stream",
     "text": [
      "Train:\t\t (1225029, 3)\n"
     ]
    }
   ],
   "source": [
    "train = pd.read_csv('./data/train.csv')\n",
    "print('Train:\\t\\t', train.shape)"
   ]
  },
  {
   "cell_type": "markdown",
   "metadata": {},
   "source": [
    "# Download Images"
   ]
  },
  {
   "cell_type": "code",
   "execution_count": 3,
   "metadata": {},
   "outputs": [],
   "source": [
    "def fetch_image(url):\n",
    "    \"\"\" Get image from given url \"\"\"\n",
    "    response=requests.get(url, stream=True)\n",
    "    \n",
    "    with open('./data/image_9.jpg', 'wb') as out_file:\n",
    "        shutil.copyfileobj(response.raw, out_file)\n",
    "        \n",
    "    del response"
   ]
  },
  {
   "cell_type": "code",
   "execution_count": 4,
   "metadata": {},
   "outputs": [
    {
     "name": "stdout",
     "output_type": "stream",
     "text": [
      "\n",
      "Process:    900000    Used time: 0.0 s\n",
      "================================================================================\n",
      "Process:    910000    Used time: 4563.0 s\n",
      "================================================================================\n",
      "Process:    920000    Used time: 4607.0 s\n",
      "================================================================================\n",
      "Process:    930000    Used time: 4859.0 s\n",
      "================================================================================\n",
      "Process:    940000    Used time: 4302.0 s\n",
      "================================================================================\n",
      "Process:    950000    Used time: 4640.0 s\n",
      "================================================================================\n",
      "Process:    960000    Used time: 4409.0 s\n",
      "================================================================================\n",
      "Process:    970000    Used time: 4534.0 s\n",
      "================================================================================\n",
      "Process:    980000    Used time: 4536.0 s\n",
      "================================================================================\n",
      "Process:    990000    Used time: 4381.0 s\n",
      "================================================================================"
     ]
    }
   ],
   "source": [
    "# Download images to ./train/\n",
    "urls = train['url'].values\n",
    "t0 = time.time()\n",
    "\n",
    "# Loop through urls to download images\n",
    "for idx in range(900000, 1000000):\n",
    "    url = urls[idx]\n",
    "    # Check if already downloaded\n",
    "    if os.path.exists('./data/tmp9/' + str(idx) + '.jpg'):\n",
    "        continue\n",
    "        \n",
    "    # Get image from url\n",
    "    fetch_image(url)\n",
    "    os.rename('./data/image_9.jpg', './data/tmp9/'+ str(idx) + '.jpg')\n",
    "    \n",
    "    # Helpful information\n",
    "    if idx % 10000 == 0:\n",
    "        t = time.time() - t0\n",
    "        print('\\nProcess: {:9d}'.format(idx), '   Used time: {} s'.format(np.round(t, 0)))\n",
    "        t0 = time.time()\n",
    "    if idx % 125 == 0:\n",
    "        print('=', end='')"
   ]
  },
  {
   "cell_type": "code",
   "execution_count": null,
   "metadata": {},
   "outputs": [],
   "source": []
  }
 ],
 "metadata": {
  "kernelspec": {
   "display_name": "Environment (conda_tensorflow_p36)",
   "language": "python",
   "name": "conda_tensorflow_p36"
  },
  "language_info": {
   "codemirror_mode": {
    "name": "ipython",
    "version": 3
   },
   "file_extension": ".py",
   "mimetype": "text/x-python",
   "name": "python",
   "nbconvert_exporter": "python",
   "pygments_lexer": "ipython3",
   "version": "3.6.4"
  }
 },
 "nbformat": 4,
 "nbformat_minor": 2
}
