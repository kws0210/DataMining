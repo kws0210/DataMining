{
 "cells": [
  {
   "cell_type": "code",
   "execution_count": 1,
   "metadata": {},
   "outputs": [],
   "source": [
    "import warnings\n",
    "warnings.simplefilter('ignore')\n",
    "\n",
    "import numpy as np\n",
    "import pandas as pd\n",
    "from sklearn.neighbors import NearestNeighbors\n",
    "\n",
    "%matplotlib inline"
   ]
  },
  {
   "cell_type": "markdown",
   "metadata": {},
   "source": [
    "# Load Features and Labels"
   ]
  },
  {
   "cell_type": "code",
   "execution_count": 2,
   "metadata": {},
   "outputs": [
    {
     "name": "stdout",
     "output_type": "stream",
     "text": [
      "Train:\t\t (1225029, 3) (1192931,)\n",
      "Test:\t\t (117703, 2) (108383,)\n",
      "Landmarks:\t 14951\n"
     ]
    }
   ],
   "source": [
    "# Load the data\n",
    "train_df = pd.read_csv('./data/all/train.csv')\n",
    "train_imgs_id = np.load('./result/train_imgs_id.npy')\n",
    "\n",
    "test_df = pd.read_csv('./data/all/test.csv')\n",
    "test_imgs_id = np.load('./result/test_imgs_id.npy')\n",
    "\n",
    "print('Train:\\t\\t', train_df.shape, train_imgs_id.shape)\n",
    "print('Test:\\t\\t', test_df.shape, test_imgs_id.shape)\n",
    "print('Landmarks:\\t', len(train_df['landmark_id'].unique()))"
   ]
  },
  {
   "cell_type": "code",
   "execution_count": 5,
   "metadata": {},
   "outputs": [
    {
     "name": "stdout",
     "output_type": "stream",
     "text": [
      "Train:\t (1192931, 2048) (1192931,)\n",
      "Test:\t (108383, 2048)\n"
     ]
    }
   ],
   "source": [
    "train_x = np.load('./data/all/train_features.npy')\n",
    "train_y = np.load('./data/all/train_id.npy')\n",
    "\n",
    "test_x = np.load('./data/all/test_features.npy')\n",
    "\n",
    "print('Train:\\t', train_x.shape, train_y.shape)\n",
    "print('Test:\\t', test_x.shape)"
   ]
  },
  {
   "cell_type": "markdown",
   "metadata": {},
   "source": [
    "# Implement KNN Model"
   ]
  },
  {
   "cell_type": "code",
   "execution_count": 7,
   "metadata": {},
   "outputs": [
    {
     "data": {
      "text/plain": [
       "NearestNeighbors(algorithm='auto', leaf_size=30, metric='minkowski',\n",
       "         metric_params=None, n_jobs=-1, n_neighbors=1, p=2, radius=1.0)"
      ]
     },
     "execution_count": 7,
     "metadata": {},
     "output_type": "execute_result"
    }
   ],
   "source": [
    "# Implement KNN model\n",
    "knn = NearestNeighbors(n_neighbors=1, algorithm='auto', leaf_size=30, \n",
    "                       metric='minkowski', p=2, n_jobs=-1)\n",
    "knn.fit(train_x)"
   ]
  },
  {
   "cell_type": "code",
   "execution_count": 8,
   "metadata": {},
   "outputs": [],
   "source": [
    "# Search the first neighbors\n",
    "neighbor_index = knn.kneighbors(test_x, return_distance=False)"
   ]
  },
  {
   "cell_type": "code",
   "execution_count": 9,
   "metadata": {},
   "outputs": [
    {
     "name": "stdout",
     "output_type": "stream",
     "text": [
      "KNN Neighbor:\t\t (108383, 1)\n"
     ]
    }
   ],
   "source": [
    "np.save('./result/knn_all_neighbor_index.npy', neighbor_index)\n",
    "print('KNN Neighbor:\\t\\t', neighbor_index.shape)"
   ]
  },
  {
   "cell_type": "code",
   "execution_count": 12,
   "metadata": {},
   "outputs": [],
   "source": [
    "# Get prediction for each query images\n",
    "landmarks = []\n",
    "ids = []\n",
    "\n",
    "for i in range(len(neighbor_index)):\n",
    "    idx = test_imgs_id[i]\n",
    "    ids.append(test_df.loc[idx, 'id'])\n",
    "    landmarks.append(train_y[neighbor_index[i][0]])\n",
    "\n",
    "prediction_tuple = [str(idx) + ' ' + '1.0' for idx in landmarks]"
   ]
  },
  {
   "cell_type": "code",
   "execution_count": 14,
   "metadata": {},
   "outputs": [],
   "source": [
    "# Create submission files\n",
    "sample_submission = pd.read_csv('./data/all/sample_submission.csv', usecols=['id'])\n",
    "\n",
    "submission = pd.DataFrame({'id': ids, 'landmarks': prediction_tuple})\n",
    "submission = pd.merge(sample_submission, submission, how='left', on='id')\n",
    "submission.to_csv('./result/knn_all_submission.csv', index=False, columns=['id', 'landmarks'])"
   ]
  },
  {
   "cell_type": "code",
   "execution_count": null,
   "metadata": {},
   "outputs": [],
   "source": []
  }
 ],
 "metadata": {
  "kernelspec": {
   "display_name": "Python 3",
   "language": "python",
   "name": "python3"
  },
  "language_info": {
   "codemirror_mode": {
    "name": "ipython",
    "version": 3
   },
   "file_extension": ".py",
   "mimetype": "text/x-python",
   "name": "python",
   "nbconvert_exporter": "python",
   "pygments_lexer": "ipython3",
   "version": "3.6.4"
  }
 },
 "nbformat": 4,
 "nbformat_minor": 2
}
