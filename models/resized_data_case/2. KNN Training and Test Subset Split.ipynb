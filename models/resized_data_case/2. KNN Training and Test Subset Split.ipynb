{
 "cells": [
  {
   "cell_type": "markdown",
   "metadata": {},
   "source": [
    "### Major Information\n",
    "* In the training set, for the id that has more than 12 images, choose the first 10 as training set, the rest 2 as test images.\n",
    "* In the training set, for those whole has training data more than 10 images, only keep the first 10 images as the training image, and the rest as test images.\n",
    "* For the rest, if it has more than 2 images, select the last one as test images\n",
    "* For the landmark that has less than 3 images, choose all as training images"
   ]
  },
  {
   "cell_type": "code",
   "execution_count": 1,
   "metadata": {},
   "outputs": [],
   "source": [
    "import warnings\n",
    "warnings.simplefilter('ignore')\n",
    "\n",
    "import numpy as np\n",
    "import pandas as pd\n",
    "\n",
    "%matplotlib inline"
   ]
  },
  {
   "cell_type": "markdown",
   "metadata": {},
   "source": [
    "# Load Features and Labels"
   ]
  },
  {
   "cell_type": "code",
   "execution_count": 2,
   "metadata": {},
   "outputs": [],
   "source": [
    "train_feature = np.load('./data/resized/train_features.npy')\n",
    "train_df = pd.read_csv('./data/resized/train_resized.csv')\n",
    "\n",
    "train_labels = train_df['landmark_id'].values"
   ]
  },
  {
   "cell_type": "code",
   "execution_count": 3,
   "metadata": {},
   "outputs": [
    {
     "data": {
      "text/plain": [
       "14950"
      ]
     },
     "execution_count": 3,
     "metadata": {},
     "output_type": "execute_result"
    }
   ],
   "source": [
    "# Choose the unique ids\n",
    "unique_ids = sorted(train_df['landmark_id'].unique())\n",
    "len(unique_ids)"
   ]
  },
  {
   "cell_type": "code",
   "execution_count": 4,
   "metadata": {
    "scrolled": true
   },
   "outputs": [
    {
     "data": {
      "text/plain": [
       "0.41304347826086957"
      ]
     },
     "execution_count": 4,
     "metadata": {},
     "output_type": "execute_result"
    }
   ],
   "source": [
    "# Group data according unique landmark_id\n",
    "grouped = train_df[['landmark_id', 'id']].groupby('landmark_id').count().reset_index()\n",
    "grouped = grouped.sort_values('id', ascending=False)\n",
    "grouped = grouped.rename(columns={'id': 'count'}).reset_index(drop=True)\n",
    "\n",
    "# About 41% landmark ids have image less than 10\n",
    "len(grouped[grouped['count'] < 10]) / len(grouped)"
   ]
  },
  {
   "cell_type": "markdown",
   "metadata": {},
   "source": [
    "# Split Training Set"
   ]
  },
  {
   "cell_type": "code",
   "execution_count": 5,
   "metadata": {},
   "outputs": [],
   "source": [
    "# Split into training and test set\n",
    "train_ids = []\n",
    "test_ids = []\n",
    "\n",
    "for idx in unique_ids:\n",
    "    index = list(train_df[train_df['landmark_id'] == idx].index)\n",
    "    np.random.shuffle(index)\n",
    "    \n",
    "    if len(index) >= 12:\n",
    "        train_ids += index[:10]\n",
    "        test_ids += index[10:12]\n",
    "    elif len(index) >= 10:\n",
    "        train_ids += index[:10]\n",
    "        test_ids += index[10:]\n",
    "    elif len(index) >= 3:\n",
    "        train_ids += index[:-1]\n",
    "        test_ids.append(index[-1]) \n",
    "    else:\n",
    "        train_ids += index"
   ]
  },
  {
   "cell_type": "code",
   "execution_count": 6,
   "metadata": {},
   "outputs": [
    {
     "name": "stdout",
     "output_type": "stream",
     "text": [
      "New train:\t 115210\n",
      "New test:\t 22158\n"
     ]
    }
   ],
   "source": [
    "print('New train:\\t', len(train_ids))\n",
    "print('New test:\\t', len(test_ids))"
   ]
  },
  {
   "cell_type": "code",
   "execution_count": 7,
   "metadata": {},
   "outputs": [],
   "source": [
    "# Select training and testing subsets\n",
    "sub_train_df = train_df.loc[train_ids]\n",
    "sub_test_df = train_df.loc[test_ids]\n",
    "\n",
    "sub_train_feature = train_feature[train_ids]\n",
    "sub_test_feature = train_feature[test_ids]"
   ]
  },
  {
   "cell_type": "code",
   "execution_count": 13,
   "metadata": {},
   "outputs": [],
   "source": [
    "# Save to disk ./data/subset\n",
    "sub_train_df.to_csv('./data/knn/train.csv', index=False)\n",
    "sub_test_df.to_csv('./data/knn/test.csv', index=False)\n",
    "\n",
    "np.save('./data/knn/train_feature.npy', sub_train_feature)\n",
    "np.save('./data/knn/test_feature.npy', sub_test_feature)"
   ]
  }
 ],
 "metadata": {
  "kernelspec": {
   "display_name": "Python 3",
   "language": "python",
   "name": "python3"
  },
  "language_info": {
   "codemirror_mode": {
    "name": "ipython",
    "version": 3
   },
   "file_extension": ".py",
   "mimetype": "text/x-python",
   "name": "python",
   "nbconvert_exporter": "python",
   "pygments_lexer": "ipython3",
   "version": "3.6.3"
  }
 },
 "nbformat": 4,
 "nbformat_minor": 2
}
