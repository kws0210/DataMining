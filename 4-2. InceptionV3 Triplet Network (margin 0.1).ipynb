{
 "cells": [
  {
   "cell_type": "code",
   "execution_count": 1,
   "metadata": {},
   "outputs": [
    {
     "name": "stderr",
     "output_type": "stream",
     "text": [
      "Using TensorFlow backend.\n"
     ]
    }
   ],
   "source": [
    "import warnings\n",
    "warnings.simplefilter('ignore')\n",
    "\n",
    "import numpy as np\n",
    "import pandas as pd\n",
    "import seaborn as sns\n",
    "import matplotlib.pyplot as plt\n",
    "import sys, os, time, gc, random, pickle\n",
    "from sklearn.neighbors import NearestNeighbors\n",
    "import requests, shutil\n",
    "import tensorflow as tf\n",
    "import keras\n",
    "\n",
    "from keras import backend as K\n",
    "from keras.preprocessing.image import load_img, img_to_array\n",
    "from keras.models import Sequential, load_model, Model\n",
    "from keras.layers import Dense, Dropout, Activation, Flatten, Input, Lambda\n",
    "from keras.callbacks import ModelCheckpoint, LearningRateScheduler, ReduceLROnPlateau\n",
    "from keras.applications.inception_v3 import InceptionV3\n",
    "\n",
    "%matplotlib inline"
   ]
  },
  {
   "cell_type": "markdown",
   "metadata": {},
   "source": [
    "# Load Data"
   ]
  },
  {
   "cell_type": "code",
   "execution_count": 2,
   "metadata": {},
   "outputs": [
    {
     "name": "stdout",
     "output_type": "stream",
     "text": [
      "Train:\t\t (113783, 4)\n",
      "Validation:\t (22255, 4)\n",
      "Test:\t\t (22391, 4)\n",
      "\n",
      "Train Landmarks:\t 14943\n",
      "Validation Landmarks:\t 7674\n",
      "Test Landmarks:\t\t 14436\n"
     ]
    }
   ],
   "source": [
    "train_df = pd.read_csv('./data/triplet/train.csv')\n",
    "val_df = pd.read_csv('./data/triplet/validation.csv')\n",
    "test_df = pd.read_csv('./data/triplet/test.csv')\n",
    "\n",
    "print('Train:\\t\\t', train_df.shape)\n",
    "print('Validation:\\t', val_df.shape)\n",
    "print('Test:\\t\\t', test_df.shape)\n",
    "\n",
    "print('\\nTrain Landmarks:\\t', len(train_df['landmark_id'].unique()))\n",
    "print('Validation Landmarks:\\t', len(val_df['landmark_id'].unique()))\n",
    "print('Test Landmarks:\\t\\t', len(test_df['landmark_id'].unique()))"
   ]
  },
  {
   "cell_type": "code",
   "execution_count": 3,
   "metadata": {
    "scrolled": true
   },
   "outputs": [
    {
     "data": {
      "text/html": [
       "<div>\n",
       "<style scoped>\n",
       "    .dataframe tbody tr th:only-of-type {\n",
       "        vertical-align: middle;\n",
       "    }\n",
       "\n",
       "    .dataframe tbody tr th {\n",
       "        vertical-align: top;\n",
       "    }\n",
       "\n",
       "    .dataframe thead th {\n",
       "        text-align: right;\n",
       "    }\n",
       "</style>\n",
       "<table border=\"1\" class=\"dataframe\">\n",
       "  <thead>\n",
       "    <tr style=\"text-align: right;\">\n",
       "      <th></th>\n",
       "      <th>image_id</th>\n",
       "      <th>id</th>\n",
       "      <th>url</th>\n",
       "      <th>landmark_id</th>\n",
       "    </tr>\n",
       "  </thead>\n",
       "  <tbody>\n",
       "    <tr>\n",
       "      <th>0</th>\n",
       "      <td>465272</td>\n",
       "      <td>a2ccf8ed2e969f6a</td>\n",
       "      <td>https://lh4.googleusercontent.com/-TPHkS5gzvm4...</td>\n",
       "      <td>0</td>\n",
       "    </tr>\n",
       "    <tr>\n",
       "      <th>1</th>\n",
       "      <td>64516</td>\n",
       "      <td>e205ca7c8dd7c027</td>\n",
       "      <td>https://lh3.googleusercontent.com/-V3RjsZtGpxE...</td>\n",
       "      <td>0</td>\n",
       "    </tr>\n",
       "    <tr>\n",
       "      <th>2</th>\n",
       "      <td>928409</td>\n",
       "      <td>4e8ab93c1620e8a3</td>\n",
       "      <td>http://mw2.google.com/mw-panoramio/photos/medi...</td>\n",
       "      <td>0</td>\n",
       "    </tr>\n",
       "    <tr>\n",
       "      <th>3</th>\n",
       "      <td>88809</td>\n",
       "      <td>896bf928214d1ca4</td>\n",
       "      <td>http://lh5.ggpht.com/-Cy0l41uUaGA/R--yB8vy41I/...</td>\n",
       "      <td>0</td>\n",
       "    </tr>\n",
       "    <tr>\n",
       "      <th>4</th>\n",
       "      <td>1001133</td>\n",
       "      <td>375d2a153bdca926</td>\n",
       "      <td>http://lh6.ggpht.com/-UqzFpnqE9bU/S_0u1RovfdI/...</td>\n",
       "      <td>0</td>\n",
       "    </tr>\n",
       "  </tbody>\n",
       "</table>\n",
       "</div>"
      ],
      "text/plain": [
       "   image_id                id  \\\n",
       "0    465272  a2ccf8ed2e969f6a   \n",
       "1     64516  e205ca7c8dd7c027   \n",
       "2    928409  4e8ab93c1620e8a3   \n",
       "3     88809  896bf928214d1ca4   \n",
       "4   1001133  375d2a153bdca926   \n",
       "\n",
       "                                                 url  landmark_id  \n",
       "0  https://lh4.googleusercontent.com/-TPHkS5gzvm4...            0  \n",
       "1  https://lh3.googleusercontent.com/-V3RjsZtGpxE...            0  \n",
       "2  http://mw2.google.com/mw-panoramio/photos/medi...            0  \n",
       "3  http://lh5.ggpht.com/-Cy0l41uUaGA/R--yB8vy41I/...            0  \n",
       "4  http://lh6.ggpht.com/-UqzFpnqE9bU/S_0u1RovfdI/...            0  "
      ]
     },
     "execution_count": 3,
     "metadata": {},
     "output_type": "execute_result"
    }
   ],
   "source": [
    "train_df.head()"
   ]
  },
  {
   "cell_type": "markdown",
   "metadata": {},
   "source": [
    "# Helper Functions"
   ]
  },
  {
   "cell_type": "code",
   "execution_count": 4,
   "metadata": {},
   "outputs": [],
   "source": [
    "# training set triplet generator\n",
    "def train_triplet_generator(df, batch_size=100, img_size=(224, 224), seed=42, \n",
    "                            prefix='./data/triplet/train/'):\n",
    "    \"\"\" training set triplet generator\n",
    "        it will generate 7400 triplet images in total\n",
    "    \"\"\"\n",
    "    # get images with only one training image landmark id and the rest landmark ids\n",
    "    np.random.seed(seed)\n",
    "    grouped = df[['landmark_id', 'image_id']].groupby('landmark_id').count().reset_index()\n",
    "    unique_neg_ids = list(grouped[grouped['image_id'] == 1]['landmark_id'].values)\n",
    "    rest_ids = list(grouped[grouped['image_id'] > 1]['landmark_id'].values)\n",
    "    size = 7400 * 2 - len(unique_neg_ids) \n",
    "    zeros = np.zeros((batch_size, 3, 1), dtype=K.floatx())\n",
    "    \n",
    "    while True:\n",
    "        # get positive and negative image landmark ids\n",
    "        np.random.shuffle(rest_ids)\n",
    "        candidate_ids = list(np.random.choice(rest_ids, size=size, replace=False))\n",
    "        pos_landmark_ids = candidate_ids[:7400]\n",
    "        neg_landmark_ids = candidate_ids[7400:] + unique_neg_ids\n",
    "        np.random.shuffle(neg_landmark_ids)\n",
    "        \n",
    "        # transform landmark id into image id\n",
    "        anc_img_ids = []\n",
    "        pos_img_ids = []\n",
    "        neg_img_ids = []\n",
    "        \n",
    "        for i in range(len(pos_landmark_ids)):\n",
    "            tmp_pos_ids = df[df['landmark_id'] == pos_landmark_ids[i]]['image_id'].values\n",
    "            anc_img_ids.append(tmp_pos_ids[0])\n",
    "            pos_img_ids.append(tmp_pos_ids[1])\n",
    "            \n",
    "            tmp_neg_ids = df[df['landmark_id'] == neg_landmark_ids[i]]['image_id'].values\n",
    "            neg_img_ids.append(tmp_neg_ids[0])\n",
    "        \n",
    "        # iterator to read batch images\n",
    "        for j in range(len(pos_img_ids) // batch_size):\n",
    "            batch_anc_img_ids = anc_img_ids[j * batch_size: (j + 1) * batch_size]\n",
    "            batch_pos_img_ids = pos_img_ids[j * batch_size: (j + 1) * batch_size]\n",
    "            batch_neg_img_ids = neg_img_ids[j * batch_size: (j + 1) * batch_size]\n",
    "            \n",
    "            # get images\n",
    "            anc_imgs = []\n",
    "            pos_imgs = []\n",
    "            neg_imgs = []\n",
    "            \n",
    "            # iteratively read images\n",
    "            for k in range(batch_size):\n",
    "                anc_path = prefix + str(batch_anc_img_ids[k]) + '.jpg'\n",
    "                pos_path = prefix + str(batch_pos_img_ids[k]) + '.jpg'\n",
    "                neg_path = prefix + str(batch_neg_img_ids[k]) + '.jpg'\n",
    "                \n",
    "                tmp_anc_img = load_img(anc_path, target_size=img_size)\n",
    "                tmp_anc_img = img_to_array(tmp_anc_img)\n",
    "                anc_imgs.append(tmp_anc_img)\n",
    "                \n",
    "                tmp_pos_img = load_img(pos_path, target_size=img_size)\n",
    "                tmp_pos_img = img_to_array(tmp_pos_img)\n",
    "                pos_imgs.append(tmp_pos_img)\n",
    "                \n",
    "                tmp_neg_img = load_img(neg_path, target_size=img_size)\n",
    "                tmp_neg_img = img_to_array(tmp_neg_img)\n",
    "                neg_imgs.append(tmp_neg_img)\n",
    "        \n",
    "            # transform list to array\n",
    "            anc_imgs = np.array(anc_imgs, dtype=K.floatx()) / 255.0\n",
    "            pos_imgs = np.array(pos_imgs, dtype=K.floatx()) / 255.0\n",
    "            neg_imgs = np.array(neg_imgs, dtype=K.floatx()) / 255.0\n",
    "\n",
    "            yield [anc_imgs, pos_imgs, neg_imgs], zeros"
   ]
  },
  {
   "cell_type": "code",
   "execution_count": 5,
   "metadata": {},
   "outputs": [],
   "source": [
    "# validation set triplet generator\n",
    "def val_triplet_generator(df, batch_size=128, img_size=(224, 224), \n",
    "                          seed=42, prefix='./data/triplet/validation'):\n",
    "    \"\"\" validation set triplet collector \"\"\"\n",
    "    \n",
    "     # get images with only one image landmark id and the rest landmark ids\n",
    "    grouped = df[['landmark_id', 'image_id']].groupby('landmark_id').count().reset_index()\n",
    "    unique_neg_ids = list(grouped[grouped['image_id'] == 1]['landmark_id'].values)\n",
    "    rest_ids = list(grouped[grouped['image_id'] > 1]['landmark_id'].values)\n",
    "    size = 3072 * 2 - len(unique_neg_ids) \n",
    "    zeros = np.zeros((batch_size, 3, 1), dtype=K.floatx())\n",
    "    \n",
    "    while True:\n",
    "        # get positive and negative image landmark ids\n",
    "        np.random.seed(seed)\n",
    "        candidate_ids = list(np.random.choice(rest_ids, size=size, replace=False))\n",
    "        pos_landmark_ids = candidate_ids[:3072]\n",
    "        neg_landmark_ids = candidate_ids[3072:] + unique_neg_ids\n",
    "        np.random.shuffle(neg_landmark_ids)\n",
    "        \n",
    "        # transform landmark id into image id\n",
    "        anc_img_ids = []\n",
    "        pos_img_ids = []\n",
    "        neg_img_ids = []\n",
    "        \n",
    "        for i in range(len(pos_landmark_ids)):\n",
    "            tmp_pos_ids = df[df['landmark_id'] == pos_landmark_ids[i]]['image_id'].values\n",
    "            anc_img_ids.append(tmp_pos_ids[0])\n",
    "            pos_img_ids.append(tmp_pos_ids[1])\n",
    "            \n",
    "            tmp_neg_ids = df[df['landmark_id'] == neg_landmark_ids[i]]['image_id'].values\n",
    "            neg_img_ids.append(tmp_neg_ids[0])\n",
    "        \n",
    "        # iterator to read batch images\n",
    "        for j in range(len(pos_img_ids) // batch_size):\n",
    "            batch_anc_img_ids = anc_img_ids[j * batch_size: (j + 1) * batch_size]\n",
    "            batch_pos_img_ids = pos_img_ids[j * batch_size: (j + 1) * batch_size]\n",
    "            batch_neg_img_ids = neg_img_ids[j * batch_size: (j + 1) * batch_size]\n",
    "            \n",
    "            # get images\n",
    "            anc_imgs = []\n",
    "            pos_imgs = []\n",
    "            neg_imgs = []\n",
    "            \n",
    "            # iteratively read images\n",
    "            for k in range(batch_size):\n",
    "                anc_path = prefix + str(batch_anc_img_ids[k]) + '.jpg'\n",
    "                pos_path = prefix + str(batch_pos_img_ids[k]) + '.jpg'\n",
    "                neg_path = prefix + str(batch_neg_img_ids[k]) + '.jpg'\n",
    "                \n",
    "                tmp_anc_img = load_img(anc_path, target_size=img_size)\n",
    "                tmp_anc_img = img_to_array(tmp_anc_img)\n",
    "                anc_imgs.append(tmp_anc_img)\n",
    "                \n",
    "                tmp_pos_img = load_img(pos_path, target_size=img_size)\n",
    "                tmp_pos_img = img_to_array(tmp_pos_img)\n",
    "                pos_imgs.append(tmp_pos_img)\n",
    "                \n",
    "                tmp_neg_img = load_img(neg_path, target_size=img_size)\n",
    "                tmp_neg_img = img_to_array(tmp_neg_img)\n",
    "                neg_imgs.append(tmp_neg_img)\n",
    "        \n",
    "            # transform list to array\n",
    "            anc_imgs = np.array(anc_imgs, dtype=K.floatx()) / 255.0\n",
    "            pos_imgs = np.array(pos_imgs, dtype=K.floatx()) / 255.0\n",
    "            neg_imgs = np.array(neg_imgs, dtype=K.floatx()) / 255.0\n",
    "            \n",
    "            yield [anc_imgs, pos_imgs, neg_imgs], zeros"
   ]
  },
  {
   "cell_type": "markdown",
   "metadata": {},
   "source": [
    "# Define Triplet Loss Model"
   ]
  },
  {
   "cell_type": "code",
   "execution_count": 6,
   "metadata": {},
   "outputs": [],
   "source": [
    "# Define base network for triplet network\n",
    "def base_net(input_shape=(224, 224, 3)):\n",
    "    \"\"\" define triplet network \"\"\"\n",
    "    # load pre-trained InceptionV3 model\n",
    "    inception = InceptionV3(include_top=False, weights='imagenet', input_shape=input_shape, pooling='avg')\n",
    "    \n",
    "    # frozen shallow layers\n",
    "    inception.trainable = True\n",
    "    \n",
    "    set_trainable = False\n",
    "    for layer in inception.layers:\n",
    "        if layer.name == 'mixed9':\n",
    "            set_trainable = True\n",
    "            \n",
    "        if set_trainable:\n",
    "            layer.trainable = True\n",
    "        else:\n",
    "            layer.trainable = False\n",
    "    \n",
    "    # define sequential model\n",
    "    model = Sequential(name='base_net')\n",
    "    model.add(inception)\n",
    "    model.add(Lambda(lambda x: K.l2_normalize(x, axis=1), name='l2_norm'))\n",
    "    \n",
    "    return model"
   ]
  },
  {
   "cell_type": "code",
   "execution_count": 7,
   "metadata": {},
   "outputs": [],
   "source": [
    "# Define triplet network\n",
    "def triplet_net(base_model, input_shape=(224, 224, 3)):\n",
    "    \"\"\" function to define triplet networks \"\"\"\n",
    "    # define input: anchor, positive, negative\n",
    "    anchor = Input(shape=input_shape, name='anchor_input')\n",
    "    positive = Input(shape=input_shape, name='positive_input')\n",
    "    negative = Input(shape=input_shape, name='negative_input')\n",
    "    \n",
    "    # extract vector represent using CNN based model\n",
    "    anc_vec = base_model(anchor)\n",
    "    pos_vec = base_model(positive)\n",
    "    neg_vec = base_model(negative)\n",
    "    \n",
    "    # stack outputs\n",
    "    stacks = Lambda(lambda x: K.stack(x, axis=1), name='output')([anc_vec, pos_vec, neg_vec])\n",
    "\n",
    "    # define inputs and outputs\n",
    "    inputs=[anchor, positive, negative]\n",
    "    outputs = stacks\n",
    "    \n",
    "    # define the triplet model\n",
    "    model = Model(inputs=inputs, outputs=outputs, name='triplet_net')\n",
    "    \n",
    "    return model"
   ]
  },
  {
   "cell_type": "code",
   "execution_count": 8,
   "metadata": {},
   "outputs": [],
   "source": [
    "# Define triplet loss\n",
    "def triplet_loss(y_true, y_pred):\n",
    "    \"\"\" function to compute triplet loss\n",
    "        margin is predefined coded, manually change if needed\n",
    "    \"\"\"\n",
    "    # define triplet margin\n",
    "    margin = K.constant(0.1)\n",
    "    zero = K.constant(0.0)\n",
    "    \n",
    "    # get the prediction vector\n",
    "    anchor, positive, negative = y_pred[:, 0], y_pred[:, 1], y_pred[:, 2]\n",
    "    \n",
    "    # compute distance\n",
    "    pos_distance = K.sum(K.square(anchor - positive), axis=1)\n",
    "    neg_distance = K.sum(K.square(anchor - negative), axis=1)\n",
    "    \n",
    "    # compute loss\n",
    "    partial_loss = pos_distance - neg_distance + margin\n",
    "    full_loss = K.sum(K.maximum(partial_loss, zero), axis=0)\n",
    "    \n",
    "    return full_loss"
   ]
  },
  {
   "cell_type": "markdown",
   "metadata": {},
   "source": [
    "# Build Triplet Model"
   ]
  },
  {
   "cell_type": "code",
   "execution_count": 9,
   "metadata": {},
   "outputs": [],
   "source": [
    "# For reproduciable purpose\n",
    "seed = 42\n",
    "K.clear_session()\n",
    "os.environ['PYTHONHASHSEED'] = '0'\n",
    "np.random.seed(seed)\n",
    "random.seed(seed)\n",
    "session_conf = tf.ConfigProto(intra_op_parallelism_threads=1, inter_op_parallelism_threads=1)\n",
    "tf.set_random_seed(seed)\n",
    "sess = tf.Session(graph=tf.get_default_graph(), config=session_conf)\n",
    "K.set_session(sess)\n",
    "\n",
    "# Define Parameters\n",
    "img_size = (224, 224, 3)  # target image size\n",
    "\n",
    "# triplet image generator\n",
    "train_generator = train_triplet_generator(train_df, batch_size=100, img_size=img_size[:2], \n",
    "                                          seed=42, prefix='./data/triplet/train/')\n",
    "\n",
    "val_generator = val_triplet_generator(val_df, batch_size=64, img_size=img_size[:2], \n",
    "                                      seed=42, prefix='./data/triplet/validation/')"
   ]
  },
  {
   "cell_type": "code",
   "execution_count": 10,
   "metadata": {
    "scrolled": false
   },
   "outputs": [
    {
     "name": "stdout",
     "output_type": "stream",
     "text": [
      "WARNING:tensorflow:From /home/ubuntu/anaconda3/envs/tensorflow_p36/lib/python3.6/site-packages/keras/backend/tensorflow_backend.py:3148: calling l2_normalize (from tensorflow.python.ops.nn_impl) with dim is deprecated and will be removed in a future version.\n",
      "Instructions for updating:\n",
      "dim is deprecated, use axis instead\n",
      "_________________________________________________________________\n",
      "Layer (type)                 Output Shape              Param #   \n",
      "=================================================================\n",
      "inception_v3 (Model)         (None, 2048)              21802784  \n",
      "_________________________________________________________________\n",
      "l2_norm (Lambda)             (None, 2048)              0         \n",
      "=================================================================\n",
      "Total params: 21,802,784\n",
      "Trainable params: 6,073,536\n",
      "Non-trainable params: 15,729,248\n",
      "_________________________________________________________________\n"
     ]
    }
   ],
   "source": [
    "# Define triplet network model\n",
    "base_model = base_net(input_shape=img_size)\n",
    "base_model.summary()"
   ]
  },
  {
   "cell_type": "code",
   "execution_count": 11,
   "metadata": {},
   "outputs": [
    {
     "name": "stdout",
     "output_type": "stream",
     "text": [
      "__________________________________________________________________________________________________\n",
      "Layer (type)                    Output Shape         Param #     Connected to                     \n",
      "==================================================================================================\n",
      "anchor_input (InputLayer)       (None, 224, 224, 3)  0                                            \n",
      "__________________________________________________________________________________________________\n",
      "positive_input (InputLayer)     (None, 224, 224, 3)  0                                            \n",
      "__________________________________________________________________________________________________\n",
      "negative_input (InputLayer)     (None, 224, 224, 3)  0                                            \n",
      "__________________________________________________________________________________________________\n",
      "base_net (Sequential)           (None, 2048)         21802784    anchor_input[0][0]               \n",
      "                                                                 positive_input[0][0]             \n",
      "                                                                 negative_input[0][0]             \n",
      "__________________________________________________________________________________________________\n",
      "output (Lambda)                 (None, 3, 2048)      0           base_net[1][0]                   \n",
      "                                                                 base_net[2][0]                   \n",
      "                                                                 base_net[3][0]                   \n",
      "==================================================================================================\n",
      "Total params: 21,802,784\n",
      "Trainable params: 6,073,536\n",
      "Non-trainable params: 15,729,248\n",
      "__________________________________________________________________________________________________\n"
     ]
    }
   ],
   "source": [
    "triplet_model = triplet_net(base_model=base_model, input_shape=img_size)\n",
    "triplet_model.summary()"
   ]
  },
  {
   "cell_type": "markdown",
   "metadata": {},
   "source": [
    "# Fit Triplet Model"
   ]
  },
  {
   "cell_type": "code",
   "execution_count": 12,
   "metadata": {},
   "outputs": [
    {
     "name": "stdout",
     "output_type": "stream",
     "text": [
      "Learning rate:  0.001\n"
     ]
    }
   ],
   "source": [
    "# define learning scheduler\n",
    "def lr_schedule(epoch):\n",
    "    \"\"\" Learning rate schedule \"\"\"\n",
    "    lr = 1e-3\n",
    "    if epoch > 80:\n",
    "        lr *= 2e-1\n",
    "    elif epoch > 60:\n",
    "        lr *= 4e-1\n",
    "    elif epoch > 40:\n",
    "        lr *= 6e-1\n",
    "    elif epoch > 20:\n",
    "        lr *= 8e-1\n",
    "    print('Learning rate: ', lr)\n",
    "    return lr\n",
    "\n",
    "# define optimizer\n",
    "opt = keras.optimizers.Adam(lr=lr_schedule(0))\n",
    "\n",
    "# Create call backs\n",
    "lr_scheduler = LearningRateScheduler(lr_schedule)\n",
    "lr_reducer = ReduceLROnPlateau(factor=np.sqrt(0.1), cooldown=0, patience=5, min_lr=0.5e-6)\n",
    "callbacks = [lr_reducer, lr_scheduler]\n",
    "\n",
    "# compile the model\n",
    "triplet_model.compile(optimizer=opt, loss=triplet_loss)"
   ]
  },
  {
   "cell_type": "code",
   "execution_count": 13,
   "metadata": {
    "scrolled": false
   },
   "outputs": [
    {
     "name": "stdout",
     "output_type": "stream",
     "text": [
      "Epoch 1/100\n",
      "Learning rate:  0.001\n",
      " - 76s - loss: 1.7760 - val_loss: 1.2493\n",
      "Epoch 2/100\n",
      "Learning rate:  0.001\n",
      " - 53s - loss: 1.0009 - val_loss: 1.1590\n",
      "Epoch 3/100\n",
      "Learning rate:  0.001\n",
      " - 52s - loss: 0.7881 - val_loss: 1.0274\n",
      "Epoch 4/100\n",
      "Learning rate:  0.001\n",
      " - 51s - loss: 0.7465 - val_loss: 1.0648\n",
      "Epoch 5/100\n",
      "Learning rate:  0.001\n",
      " - 51s - loss: 0.5496 - val_loss: 1.0421\n",
      "Epoch 6/100\n",
      "Learning rate:  0.001\n",
      " - 51s - loss: 0.4660 - val_loss: 1.0151\n",
      "Epoch 7/100\n",
      "Learning rate:  0.001\n",
      " - 52s - loss: 0.4694 - val_loss: 0.9526\n",
      "Epoch 8/100\n",
      "Learning rate:  0.001\n",
      " - 51s - loss: 0.3874 - val_loss: 0.9274\n",
      "Epoch 9/100\n",
      "Learning rate:  0.001\n",
      " - 52s - loss: 0.3949 - val_loss: 0.9242\n",
      "Epoch 10/100\n",
      "Learning rate:  0.001\n",
      " - 53s - loss: 0.3522 - val_loss: 0.8857\n",
      "Epoch 11/100\n",
      "Learning rate:  0.001\n",
      " - 51s - loss: 0.3240 - val_loss: 0.9261\n",
      "Epoch 12/100\n",
      "Learning rate:  0.001\n",
      " - 52s - loss: 0.3237 - val_loss: 0.9120\n",
      "Epoch 13/100\n",
      "Learning rate:  0.001\n",
      " - 51s - loss: 0.2445 - val_loss: 0.8807\n",
      "Epoch 14/100\n",
      "Learning rate:  0.001\n",
      " - 52s - loss: 0.2847 - val_loss: 0.9011\n",
      "Epoch 15/100\n",
      "Learning rate:  0.001\n",
      " - 52s - loss: 0.2302 - val_loss: 0.9278\n",
      "Epoch 16/100\n",
      "Learning rate:  0.001\n",
      " - 52s - loss: 0.2555 - val_loss: 0.9308\n",
      "Epoch 17/100\n",
      "Learning rate:  0.001\n",
      " - 54s - loss: 0.2407 - val_loss: 0.8987\n",
      "Epoch 18/100\n",
      "Learning rate:  0.001\n",
      " - 52s - loss: 0.2272 - val_loss: 0.8818\n",
      "Epoch 19/100\n",
      "Learning rate:  0.001\n",
      " - 52s - loss: 0.2421 - val_loss: 0.9113\n",
      "Epoch 20/100\n",
      "Learning rate:  0.001\n",
      " - 51s - loss: 0.2297 - val_loss: 0.8999\n",
      "Epoch 21/100\n",
      "Learning rate:  0.001\n",
      " - 52s - loss: 0.2064 - val_loss: 0.8954\n",
      "Epoch 22/100\n",
      "Learning rate:  0.0008\n",
      " - 52s - loss: 0.1810 - val_loss: 0.8916\n",
      "Epoch 23/100\n",
      "Learning rate:  0.0008\n",
      " - 51s - loss: 0.1739 - val_loss: 0.8870\n",
      "Epoch 24/100\n",
      "Learning rate:  0.0008\n",
      " - 51s - loss: 0.1894 - val_loss: 0.8970\n",
      "Epoch 25/100\n",
      "Learning rate:  0.0008\n",
      " - 51s - loss: 0.1585 - val_loss: 0.9695\n",
      "Epoch 26/100\n",
      "Learning rate:  0.0008\n",
      " - 51s - loss: 0.1456 - val_loss: 0.9658\n",
      "Epoch 27/100\n",
      "Learning rate:  0.0008\n",
      " - 52s - loss: 0.1496 - val_loss: 0.9027\n",
      "Epoch 28/100\n",
      "Learning rate:  0.0008\n",
      " - 52s - loss: 0.1259 - val_loss: 0.9219\n",
      "Epoch 29/100\n",
      "Learning rate:  0.0008\n",
      " - 51s - loss: 0.1522 - val_loss: 0.8966\n",
      "Epoch 30/100\n",
      "Learning rate:  0.0008\n",
      " - 54s - loss: 0.1404 - val_loss: 0.8688\n",
      "Epoch 31/100\n",
      "Learning rate:  0.0008\n",
      " - 51s - loss: 0.1370 - val_loss: 0.8949\n",
      "Epoch 32/100\n",
      "Learning rate:  0.0008\n",
      " - 52s - loss: 0.1225 - val_loss: 0.8966\n",
      "Epoch 33/100\n",
      "Learning rate:  0.0008\n",
      " - 51s - loss: 0.1335 - val_loss: 0.9043\n",
      "Epoch 34/100\n",
      "Learning rate:  0.0008\n",
      " - 51s - loss: 0.1163 - val_loss: 0.8861\n",
      "Epoch 35/100\n",
      "Learning rate:  0.0008\n",
      " - 53s - loss: 0.1522 - val_loss: 0.8820\n",
      "Epoch 36/100\n",
      "Learning rate:  0.0008\n",
      " - 52s - loss: 0.1060 - val_loss: 0.8842\n",
      "Epoch 37/100\n",
      "Learning rate:  0.0008\n",
      " - 52s - loss: 0.1318 - val_loss: 0.8704\n",
      "Epoch 38/100\n",
      "Learning rate:  0.0008\n",
      " - 51s - loss: 0.0901 - val_loss: 0.8841\n",
      "Epoch 39/100\n",
      "Learning rate:  0.0008\n",
      " - 52s - loss: 0.1682 - val_loss: 0.8868\n",
      "Epoch 40/100\n",
      "Learning rate:  0.0008\n",
      " - 52s - loss: 0.1364 - val_loss: 0.8836\n",
      "Epoch 41/100\n",
      "Learning rate:  0.0008\n",
      " - 51s - loss: 0.1133 - val_loss: 0.8730\n",
      "Epoch 42/100\n",
      "Learning rate:  0.0006\n",
      " - 51s - loss: 0.1319 - val_loss: 0.8751\n",
      "Epoch 43/100\n",
      "Learning rate:  0.0006\n",
      " - 50s - loss: 0.0849 - val_loss: 0.8669\n",
      "Epoch 44/100\n",
      "Learning rate:  0.0006\n",
      " - 51s - loss: 0.0952 - val_loss: 0.8684\n",
      "Epoch 45/100\n",
      "Learning rate:  0.0006\n",
      " - 51s - loss: 0.1143 - val_loss: 0.8595\n",
      "Epoch 46/100\n",
      "Learning rate:  0.0006\n",
      " - 51s - loss: 0.1035 - val_loss: 0.8540\n",
      "Epoch 47/100\n",
      "Learning rate:  0.0006\n",
      " - 52s - loss: 0.0957 - val_loss: 0.8777\n",
      "Epoch 48/100\n",
      "Learning rate:  0.0006\n",
      " - 51s - loss: 0.1203 - val_loss: 0.8816\n",
      "Epoch 49/100\n",
      "Learning rate:  0.0006\n",
      " - 54s - loss: 0.0960 - val_loss: 0.8910\n",
      "Epoch 50/100\n",
      "Learning rate:  0.0006\n",
      " - 54s - loss: 0.0752 - val_loss: 0.8918\n",
      "Epoch 51/100\n",
      "Learning rate:  0.0006\n",
      " - 52s - loss: 0.0755 - val_loss: 0.8970\n",
      "Epoch 52/100\n",
      "Learning rate:  0.0006\n",
      " - 51s - loss: 0.0795 - val_loss: 0.9078\n",
      "Epoch 53/100\n",
      "Learning rate:  0.0006\n",
      " - 52s - loss: 0.0662 - val_loss: 0.8967\n",
      "Epoch 54/100\n",
      "Learning rate:  0.0006\n",
      " - 52s - loss: 0.0723 - val_loss: 0.8889\n",
      "Epoch 55/100\n",
      "Learning rate:  0.0006\n",
      " - 51s - loss: 0.0985 - val_loss: 0.8794\n",
      "Epoch 56/100\n",
      "Learning rate:  0.0006\n",
      " - 52s - loss: 0.0821 - val_loss: 0.8632\n",
      "Epoch 57/100\n",
      "Learning rate:  0.0006\n",
      " - 51s - loss: 0.0604 - val_loss: 0.8722\n",
      "Epoch 58/100\n",
      "Learning rate:  0.0006\n",
      " - 52s - loss: 0.0993 - val_loss: 0.8607\n",
      "Epoch 59/100\n",
      "Learning rate:  0.0006\n",
      " - 53s - loss: 0.0909 - val_loss: 0.8399\n",
      "Epoch 60/100\n",
      "Learning rate:  0.0006\n",
      " - 51s - loss: 0.0820 - val_loss: 0.8413\n",
      "Epoch 61/100\n",
      "Learning rate:  0.0006\n",
      " - 51s - loss: 0.0918 - val_loss: 0.8415\n",
      "Epoch 62/100\n",
      "Learning rate:  0.0004\n",
      " - 51s - loss: 0.0847 - val_loss: 0.8488\n",
      "Epoch 63/100\n",
      "Learning rate:  0.0004\n",
      " - 52s - loss: 0.0720 - val_loss: 0.8390\n",
      "Epoch 64/100\n",
      "Learning rate:  0.0004\n",
      " - 51s - loss: 0.0722 - val_loss: 0.8342\n",
      "Epoch 65/100\n",
      "Learning rate:  0.0004\n",
      " - 50s - loss: 0.0891 - val_loss: 0.8288\n",
      "Epoch 66/100\n",
      "Learning rate:  0.0004\n",
      " - 51s - loss: 0.0620 - val_loss: 0.8317\n",
      "Epoch 67/100\n",
      "Learning rate:  0.0004\n",
      " - 54s - loss: 0.0696 - val_loss: 0.8278\n",
      "Epoch 68/100\n",
      "Learning rate:  0.0004\n",
      " - 51s - loss: 0.0551 - val_loss: 0.8242\n",
      "Epoch 69/100\n",
      "Learning rate:  0.0004\n",
      " - 53s - loss: 0.0588 - val_loss: 0.8359\n",
      "Epoch 70/100\n",
      "Learning rate:  0.0004\n",
      " - 52s - loss: 0.0513 - val_loss: 0.8283\n",
      "Epoch 71/100\n",
      "Learning rate:  0.0004\n",
      " - 53s - loss: 0.0646 - val_loss: 0.8354\n",
      "Epoch 72/100\n",
      "Learning rate:  0.0004\n",
      " - 51s - loss: 0.0622 - val_loss: 0.8511\n",
      "Epoch 73/100\n",
      "Learning rate:  0.0004\n",
      " - 52s - loss: 0.0672 - val_loss: 0.8320\n",
      "Epoch 74/100\n",
      "Learning rate:  0.0004\n",
      " - 51s - loss: 0.0621 - val_loss: 0.8352\n",
      "Epoch 75/100\n",
      "Learning rate:  0.0004\n",
      " - 54s - loss: 0.0491 - val_loss: 0.8183\n",
      "Epoch 76/100\n",
      "Learning rate:  0.0004\n",
      " - 50s - loss: 0.0609 - val_loss: 0.8172\n",
      "Epoch 77/100\n",
      "Learning rate:  0.0004\n",
      " - 50s - loss: 0.0540 - val_loss: 0.8404\n",
      "Epoch 78/100\n",
      "Learning rate:  0.0004\n",
      " - 51s - loss: 0.0622 - val_loss: 0.8340\n",
      "Epoch 79/100\n",
      "Learning rate:  0.0004\n",
      " - 51s - loss: 0.0646 - val_loss: 0.8478\n",
      "Epoch 80/100\n",
      "Learning rate:  0.0004\n",
      " - 51s - loss: 0.0555 - val_loss: 0.8622\n",
      "Epoch 81/100\n",
      "Learning rate:  0.0004\n",
      " - 52s - loss: 0.0577 - val_loss: 0.8607\n",
      "Epoch 82/100\n",
      "Learning rate:  0.0002\n",
      " - 50s - loss: 0.0392 - val_loss: 0.8502\n",
      "Epoch 83/100\n",
      "Learning rate:  0.0002\n",
      " - 51s - loss: 0.0519 - val_loss: 0.8442\n",
      "Epoch 84/100\n",
      "Learning rate:  0.0002\n",
      " - 53s - loss: 0.0403 - val_loss: 0.8544\n",
      "Epoch 85/100\n",
      "Learning rate:  0.0002\n",
      " - 52s - loss: 0.0473 - val_loss: 0.8664\n",
      "Epoch 86/100\n",
      "Learning rate:  0.0002\n",
      " - 55s - loss: 0.0505 - val_loss: 0.8568\n",
      "Epoch 87/100\n",
      "Learning rate:  0.0002\n",
      " - 51s - loss: 0.0338 - val_loss: 0.8565\n",
      "Epoch 88/100\n",
      "Learning rate:  0.0002\n",
      " - 51s - loss: 0.0372 - val_loss: 0.8540\n",
      "Epoch 89/100\n",
      "Learning rate:  0.0002\n",
      " - 53s - loss: 0.0563 - val_loss: 0.8508\n",
      "Epoch 90/100\n",
      "Learning rate:  0.0002\n",
      " - 52s - loss: 0.0379 - val_loss: 0.8536\n",
      "Epoch 91/100\n",
      "Learning rate:  0.0002\n",
      " - 51s - loss: 0.0491 - val_loss: 0.8441\n",
      "Epoch 92/100\n",
      "Learning rate:  0.0002\n",
      " - 51s - loss: 0.0292 - val_loss: 0.8414\n",
      "Epoch 93/100\n",
      "Learning rate:  0.0002\n",
      " - 54s - loss: 0.0344 - val_loss: 0.8469\n",
      "Epoch 94/100\n",
      "Learning rate:  0.0002\n",
      " - 51s - loss: 0.0439 - val_loss: 0.8408\n",
      "Epoch 95/100\n",
      "Learning rate:  0.0002\n",
      " - 50s - loss: 0.0355 - val_loss: 0.8419\n",
      "Epoch 96/100\n",
      "Learning rate:  0.0002\n",
      " - 54s - loss: 0.0267 - val_loss: 0.8438\n",
      "Epoch 97/100\n",
      "Learning rate:  0.0002\n",
      " - 51s - loss: 0.0265 - val_loss: 0.8417\n",
      "Epoch 98/100\n",
      "Learning rate:  0.0002\n",
      " - 50s - loss: 0.0376 - val_loss: 0.8432\n",
      "Epoch 99/100\n",
      "Learning rate:  0.0002\n",
      " - 53s - loss: 0.0375 - val_loss: 0.8440\n",
      "Epoch 100/100\n",
      "Learning rate:  0.0002\n",
      " - 52s - loss: 0.0316 - val_loss: 0.8436\n"
     ]
    }
   ],
   "source": [
    "# fit the mode\n",
    "history = triplet_model.fit_generator(train_generator, steps_per_epoch=74, epochs=100, \n",
    "                                      validation_data=val_generator, validation_steps=48, \n",
    "                                      verbose=2, callbacks=callbacks)\n",
    "\n",
    "base_model.save('./models/inception-base-0.1-model.h5')\n",
    "pickle.dump(history.history, open('./models/inception-triplet-0.1-history.p', 'wb'))\n",
    "_ = gc.collect()"
   ]
  },
  {
   "cell_type": "code",
   "execution_count": 14,
   "metadata": {},
   "outputs": [
    {
     "data": {
      "image/png": "[encoded data removed]",
      "text/plain": [
       "<Figure size 720x504 with 1 Axes>"
      ]
     },
     "metadata": {},
     "output_type": "display_data"
    }
   ],
   "source": [
    "# Visualize the training process\n",
    "train_loss = history.history['loss']\n",
    "val_loss = history.history['val_loss']\n",
    "\n",
    "fig, ax = plt.subplots(figsize=(10, 7))\n",
    "ax.plot(train_loss, label='Training Loss')\n",
    "ax.plot(val_loss, label='Validation Loss')\n",
    "ax.set_title('Loss vs. Epochs', fontsize=16)\n",
    "ax.set_xlabel('Epochs', fontsize=14)\n",
    "ax.set_ylabel('Loss', fontsize=14)\n",
    "ax.legend(fontsize=14)\n",
    "ax.grid(True)\n",
    "plt.show()"
   ]
  },
  {
   "cell_type": "markdown",
   "metadata": {},
   "source": [
    "# Extract Features using Triplet Network"
   ]
  },
  {
   "cell_type": "code",
   "execution_count": 15,
   "metadata": {},
   "outputs": [
    {
     "name": "stdout",
     "output_type": "stream",
     "text": [
      "Train:\t\t (113783, 4)\n",
      "Validation:\t (22255, 4)\n",
      "Test:\t\t (22391, 4)\n",
      "\n",
      "Train Landmarks:\t 14943\n",
      "Validation Landmarks:\t 7674\n",
      "Test Landmarks:\t\t 14436\n"
     ]
    }
   ],
   "source": [
    "train_df = pd.read_csv('./data/triplet/train.csv')\n",
    "val_df = pd.read_csv('./data/triplet/validation.csv')\n",
    "test_df = pd.read_csv('./data/triplet/test.csv')\n",
    "\n",
    "print('Train:\\t\\t', train_df.shape)\n",
    "print('Validation:\\t', val_df.shape)\n",
    "print('Test:\\t\\t', test_df.shape)\n",
    "\n",
    "print('\\nTrain Landmarks:\\t', len(train_df['landmark_id'].unique()))\n",
    "print('Validation Landmarks:\\t', len(val_df['landmark_id'].unique()))\n",
    "print('Test Landmarks:\\t\\t', len(test_df['landmark_id'].unique()))"
   ]
  },
  {
   "cell_type": "code",
   "execution_count": 16,
   "metadata": {},
   "outputs": [
    {
     "name": "stdout",
     "output_type": "stream",
     "text": [
      "_________________________________________________________________\n",
      "Layer (type)                 Output Shape              Param #   \n",
      "=================================================================\n",
      "inception_v3 (Model)         (None, 2048)              21802784  \n",
      "_________________________________________________________________\n",
      "l2_norm (Lambda)             (None, 2048)              0         \n",
      "=================================================================\n",
      "Total params: 21,802,784\n",
      "Trainable params: 6,073,536\n",
      "Non-trainable params: 15,729,248\n",
      "_________________________________________________________________\n"
     ]
    }
   ],
   "source": [
    "# Load trained model\n",
    "base_model = load_model('./models/inception-base-0.1-model.h5')\n",
    "base_model.summary()"
   ]
  },
  {
   "cell_type": "code",
   "execution_count": 17,
   "metadata": {},
   "outputs": [],
   "source": [
    "# Define train_imgs and test_imgs\n",
    "train_imgs = np.zeros(shape=(len(train_df), 2048), dtype=np.float32)\n",
    "val_imgs = np.zeros(shape=(len(val_df), 2048), dtype=np.float32)\n",
    "test_imgs = np.zeros(shape=(len(test_df), 2048), dtype=np.float32)"
   ]
  },
  {
   "cell_type": "code",
   "execution_count": 18,
   "metadata": {},
   "outputs": [
    {
     "name": "stdout",
     "output_type": "stream",
     "text": [
      "\n",
      "Process:          0\n",
      "================================================================================\n",
      "Process:      20000\n",
      "================================================================================\n",
      "Process:      40000\n",
      "================================================================================\n",
      "Process:      60000\n",
      "================================================================================\n",
      "Process:      80000\n",
      "================================================================================\n",
      "Process:     100000\n",
      "========================================================"
     ]
    }
   ],
   "source": [
    "# Process training images\n",
    "img_ids = train_df['image_id'].values\n",
    "steps = 20000\n",
    "for i in range(0, len(train_df), steps):\n",
    "    tmp_imgs = []\n",
    "    print('\\nProcess: {:10d}'.format(i))\n",
    "    \n",
    "    start = i\n",
    "    end = min(len(train_df), i + steps)\n",
    "    for idx in range(start, end):\n",
    "        if idx % 250 == 0:\n",
    "            print('=', end='')\n",
    "            \n",
    "        img_id = img_ids[idx]\n",
    "        path = './data/triplet/train/' + str(img_id) + '.jpg'\n",
    "        img = load_img(path, target_size=img_size[:2])\n",
    "        img = img_to_array(img)\n",
    "        tmp_imgs.append(img)\n",
    "        \n",
    "    tmp_imgs = np.array(tmp_imgs, dtype=np.float32) / 255.0\n",
    "    tmp_prediction = base_model.predict(tmp_imgs)\n",
    "    train_imgs[start: end, ] = tmp_prediction\n",
    "    _ = gc.collect()"
   ]
  },
  {
   "cell_type": "code",
   "execution_count": 19,
   "metadata": {},
   "outputs": [
    {
     "name": "stdout",
     "output_type": "stream",
     "text": [
      "\n",
      "Process:          0\n",
      "================================================================================\n",
      "Process:       4000\n",
      "================================================================================\n",
      "Process:       8000\n",
      "================================================================================\n",
      "Process:      12000\n",
      "================================================================================\n",
      "Process:      16000\n",
      "================================================================================\n",
      "Process:      20000\n",
      "=============================================="
     ]
    }
   ],
   "source": [
    "# Process validation images\n",
    "img_ids = val_df['image_id'].values\n",
    "steps = 4000\n",
    "for i in range(0, len(val_df), steps):\n",
    "    tmp_imgs = []\n",
    "    print('\\nProcess: {:10d}'.format(i))\n",
    "    \n",
    "    start = i\n",
    "    end = min(len(val_df), i + steps)\n",
    "    for idx in range(start, end):\n",
    "        if idx % 50 == 0:\n",
    "            print('=', end='')\n",
    "            \n",
    "        img_id = img_ids[idx]\n",
    "        path = './data/triplet/validation/' + str(img_id) + '.jpg'\n",
    "        img = load_img(path, target_size=img_size[:2])\n",
    "        img = img_to_array(img)\n",
    "        tmp_imgs.append(img)\n",
    "        \n",
    "    tmp_imgs = np.array(tmp_imgs, dtype=np.float32) / 255.0\n",
    "    tmp_prediction = base_model.predict(tmp_imgs)\n",
    "    val_imgs[start: end, ] = tmp_prediction\n",
    "    _ = gc.collect()"
   ]
  },
  {
   "cell_type": "code",
   "execution_count": 20,
   "metadata": {},
   "outputs": [
    {
     "name": "stdout",
     "output_type": "stream",
     "text": [
      "\n",
      "Process:          0\n",
      "================================================================================\n",
      "Process:       4000\n",
      "================================================================================\n",
      "Process:       8000\n",
      "================================================================================\n",
      "Process:      12000\n",
      "================================================================================\n",
      "Process:      16000\n",
      "================================================================================\n",
      "Process:      20000\n",
      "================================================"
     ]
    }
   ],
   "source": [
    "# Process test images\n",
    "img_ids = test_df['image_id'].values\n",
    "steps = 4000\n",
    "for i in range(0, len(test_df), steps):\n",
    "    tmp_imgs = []\n",
    "    print('\\nProcess: {:10d}'.format(i))\n",
    "    \n",
    "    start = i\n",
    "    end = min(len(test_df), i + steps)\n",
    "    for idx in range(start, end):\n",
    "        if idx % 50 == 0:\n",
    "            print('=', end='')\n",
    "            \n",
    "        img_id = img_ids[idx]\n",
    "        path = './data/triplet/test/' + str(img_id) + '.jpg'\n",
    "        img = load_img(path, target_size=img_size[:2])\n",
    "        img = img_to_array(img)\n",
    "        tmp_imgs.append(img)\n",
    "        \n",
    "    tmp_imgs = np.array(tmp_imgs, dtype=np.float32) / 255.0\n",
    "    tmp_prediction = base_model.predict(tmp_imgs)\n",
    "    test_imgs[start: end, ] = tmp_prediction\n",
    "    _ = gc.collect()"
   ]
  },
  {
   "cell_type": "code",
   "execution_count": 21,
   "metadata": {},
   "outputs": [
    {
     "name": "stdout",
     "output_type": "stream",
     "text": [
      "Train:\t\t (113783, 2048)\n",
      "Validation:\t (22255, 2048)\n",
      "Test:\t\t (22391, 2048)\n"
     ]
    }
   ],
   "source": [
    "print('Train:\\t\\t', train_imgs.shape)\n",
    "print('Validation:\\t', val_imgs.shape)\n",
    "print('Test:\\t\\t', test_imgs.shape)"
   ]
  },
  {
   "cell_type": "code",
   "execution_count": 22,
   "metadata": {},
   "outputs": [],
   "source": [
    "# Save to disk\n",
    "np.save('./data/triplet/train-triplet-inception-0.1-features.npy', train_imgs)\n",
    "np.save('./data/triplet/validation-triplet-inception-0.1-features.npy', val_imgs)\n",
    "np.save('./data/triplet/test-triplet-inception-0.1-features.npy', test_imgs)"
   ]
  },
  {
   "cell_type": "markdown",
   "metadata": {},
   "source": [
    "# Load Features and Labels"
   ]
  },
  {
   "cell_type": "code",
   "execution_count": 23,
   "metadata": {},
   "outputs": [
    {
     "name": "stdout",
     "output_type": "stream",
     "text": [
      "Train:\t\t (113783, 2048) (113783, 4)\n",
      "Validation:\t (22255, 2048) (22255, 4)\n",
      "Test:\t\t (22391, 2048) (22391, 4)\n"
     ]
    }
   ],
   "source": [
    "# Already normalized\n",
    "train_feature = np.load('./data/triplet/train-triplet-inception-0.1-features.npy')\n",
    "val_feature = np.load('./data/triplet/validation-triplet-inception-0.1-features.npy')\n",
    "test_feature = np.load('./data/triplet/test-triplet-inception-0.1-features.npy')\n",
    "\n",
    "train_df = pd.read_csv('./data/triplet/train.csv')\n",
    "val_df = pd.read_csv('./data/triplet/validation.csv')\n",
    "test_df = pd.read_csv('./data/triplet/test.csv')\n",
    "\n",
    "print('Train:\\t\\t', train_feature.shape, train_df.shape)\n",
    "print('Validation:\\t', val_feature.shape, val_df.shape)\n",
    "print('Test:\\t\\t', test_feature.shape, test_df.shape)"
   ]
  },
  {
   "cell_type": "code",
   "execution_count": 24,
   "metadata": {},
   "outputs": [],
   "source": [
    "# Helper function\n",
    "def accuracy(true_label, prediction, top=1):\n",
    "    \"\"\" function to calculate the prediction accuracy \"\"\"\n",
    "    prediction = prediction[:, :top]\n",
    "    count = 0\n",
    "    for i in range(len(true_label)):\n",
    "        if true_label[i] in prediction[i]:\n",
    "            count += 1\n",
    "            \n",
    "    return count / len(true_label)"
   ]
  },
  {
   "cell_type": "markdown",
   "metadata": {},
   "source": [
    "# Implement KNN Model"
   ]
  },
  {
   "cell_type": "code",
   "execution_count": 25,
   "metadata": {},
   "outputs": [],
   "source": [
    "# Merge train and validation features\n",
    "train_val_feature = np.concatenate((train_feature, val_feature), axis=0)\n",
    "train_val_df = pd.concat((train_df, val_df), axis=0)\n",
    "train_val_df = train_val_df.reset_index(drop=True)"
   ]
  },
  {
   "cell_type": "code",
   "execution_count": 26,
   "metadata": {},
   "outputs": [
    {
     "data": {
      "text/plain": [
       "NearestNeighbors(algorithm='auto', leaf_size=30, metric='minkowski',\n",
       "         metric_params=None, n_jobs=-1, n_neighbors=50, p=2, radius=1.0)"
      ]
     },
     "execution_count": 26,
     "metadata": {},
     "output_type": "execute_result"
    }
   ],
   "source": [
    "# Implement KNN model\n",
    "knn = NearestNeighbors(n_neighbors=50, algorithm='auto', leaf_size=30, \n",
    "                       metric='minkowski', p=2, n_jobs=-1)\n",
    "knn.fit(train_val_feature)"
   ]
  },
  {
   "cell_type": "code",
   "execution_count": 27,
   "metadata": {},
   "outputs": [],
   "source": [
    "# Search the first 50 neighbors\n",
    "distance, neighbor_index = knn.kneighbors(test_feature, return_distance=True)\n",
    "\n",
    "# Save the results\n",
    "np.save('./result/knn-triplet-inception-0.1-distance.npy', distance)\n",
    "np.save('./result/knn-triplet-inception-0.1-neighbor.npy', neighbor_index)"
   ]
  },
  {
   "cell_type": "markdown",
   "metadata": {},
   "source": [
    "### Search Neighbors"
   ]
  },
  {
   "cell_type": "code",
   "execution_count": 28,
   "metadata": {},
   "outputs": [],
   "source": [
    "knn_distance = np.load('./result/knn-triplet-inception-0.1-distance.npy')\n",
    "knn_neighbor = np.load('./result/knn-triplet-inception-0.1-neighbor.npy')\n",
    "\n",
    "# Get the first 50 neighbors\n",
    "predictions = []\n",
    "for neighbors in knn_neighbor:\n",
    "    predictions.append(train_val_df.loc[neighbors]['landmark_id'].values)\n",
    "\n",
    "predictions = np.array(predictions)\n",
    "np.save('./result/knn-triplet-inception-0.1-test-prediction.npy', predictions)"
   ]
  },
  {
   "cell_type": "markdown",
   "metadata": {},
   "source": [
    "### Compute Accuracy"
   ]
  },
  {
   "cell_type": "code",
   "execution_count": 29,
   "metadata": {},
   "outputs": [
    {
     "name": "stdout",
     "output_type": "stream",
     "text": [
      "Top  1 accuracy:\t 0.4746103345094011\n",
      "Top  5 accuracy:\t 0.6317270331829753\n",
      "Top 10 accuracy:\t 0.6890268411415301\n",
      "Top 20 accuracy:\t 0.740565405743379\n"
     ]
    }
   ],
   "source": [
    "print('Top  1 accuracy:\\t', accuracy(test_df['landmark_id'].values, predictions, top=1))\n",
    "print('Top  5 accuracy:\\t', accuracy(test_df['landmark_id'].values, predictions, top=5))\n",
    "print('Top 10 accuracy:\\t', accuracy(test_df['landmark_id'].values, predictions, top=10))\n",
    "print('Top 20 accuracy:\\t', accuracy(test_df['landmark_id'].values, predictions, top=20))"
   ]
  },
  {
   "cell_type": "code",
   "execution_count": 30,
   "metadata": {},
   "outputs": [],
   "source": [
    "knn_acc = []\n",
    "for i in range(1, 51):\n",
    "    tmp_acc = accuracy(test_df['landmark_id'].values, predictions, top=i)\n",
    "    knn_acc.append(tmp_acc)\n",
    "\n",
    "np.save('./result/knn-triplet-inception-0.1-accuracy.npy', knn_acc)"
   ]
  },
  {
   "cell_type": "code",
   "execution_count": null,
   "metadata": {},
   "outputs": [],
   "source": []
  }
 ],
 "metadata": {
  "kernelspec": {
   "display_name": "Environment (conda_tensorflow_p36)",
   "language": "python",
   "name": "conda_tensorflow_p36"
  },
  "language_info": {
   "codemirror_mode": {
    "name": "ipython",
    "version": 3
   },
   "file_extension": ".py",
   "mimetype": "text/x-python",
   "name": "python",
   "nbconvert_exporter": "python",
   "pygments_lexer": "ipython3",
   "version": "3.6.4"
  }
 },
 "nbformat": 4,
 "nbformat_minor": 2
}
