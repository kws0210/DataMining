{
 "cells": [
  {
   "cell_type": "code",
   "execution_count": 1,
   "metadata": {},
   "outputs": [
    {
     "name": "stderr",
     "output_type": "stream",
     "text": [
      "Using TensorFlow backend.\n"
     ]
    }
   ],
   "source": [
    "import warnings\n",
    "warnings.simplefilter('ignore')\n",
    "\n",
    "import numpy as np\n",
    "import pandas as pd\n",
    "import seaborn as sns\n",
    "import matplotlib.pyplot as plt\n",
    "import sys, os, time, gc\n",
    "import requests, shutil\n",
    "from sklearn.neighbors import NearestNeighbors\n",
    "import keras\n",
    "from keras.preprocessing.image import load_img, img_to_array\n",
    "from keras.applications.vgg16 import VGG16\n",
    "\n",
    "%matplotlib inline"
   ]
  },
  {
   "cell_type": "markdown",
   "metadata": {},
   "source": [
    "# 1. Data Information"
   ]
  },
  {
   "cell_type": "code",
   "execution_count": 2,
   "metadata": {},
   "outputs": [
    {
     "name": "stdout",
     "output_type": "stream",
     "text": [
      "Train:\t\t (113783, 4)\n",
      "Validation:\t (22255, 4)\n",
      "Test:\t\t (22391, 4)\n",
      "\n",
      "Train Landmarks:\t 14943\n",
      "Validation Landmarks:\t 7674\n",
      "Test Landmarks:\t\t 14436\n"
     ]
    }
   ],
   "source": [
    "train_df = pd.read_csv('./data/triplet/train.csv')\n",
    "val_df = pd.read_csv('./data/triplet/validation.csv')\n",
    "test_df = pd.read_csv('./data/triplet/test.csv')\n",
    "\n",
    "print('Train:\\t\\t', train_df.shape)\n",
    "print('Validation:\\t', val_df.shape)\n",
    "print('Test:\\t\\t', test_df.shape)\n",
    "\n",
    "print('\\nTrain Landmarks:\\t', len(train_df['landmark_id'].unique()))\n",
    "print('Validation Landmarks:\\t', len(val_df['landmark_id'].unique()))\n",
    "print('Test Landmarks:\\t\\t', len(test_df['landmark_id'].unique()))"
   ]
  },
  {
   "cell_type": "code",
   "execution_count": 3,
   "metadata": {},
   "outputs": [
    {
     "data": {
      "text/html": [
       "<div>\n",
       "<style scoped>\n",
       "    .dataframe tbody tr th:only-of-type {\n",
       "        vertical-align: middle;\n",
       "    }\n",
       "\n",
       "    .dataframe tbody tr th {\n",
       "        vertical-align: top;\n",
       "    }\n",
       "\n",
       "    .dataframe thead th {\n",
       "        text-align: right;\n",
       "    }\n",
       "</style>\n",
       "<table border=\"1\" class=\"dataframe\">\n",
       "  <thead>\n",
       "    <tr style=\"text-align: right;\">\n",
       "      <th></th>\n",
       "      <th>image_id</th>\n",
       "      <th>id</th>\n",
       "      <th>url</th>\n",
       "      <th>landmark_id</th>\n",
       "    </tr>\n",
       "  </thead>\n",
       "  <tbody>\n",
       "    <tr>\n",
       "      <th>0</th>\n",
       "      <td>465272</td>\n",
       "      <td>a2ccf8ed2e969f6a</td>\n",
       "      <td>https://lh4.googleusercontent.com/-TPHkS5gzvm4...</td>\n",
       "      <td>0</td>\n",
       "    </tr>\n",
       "    <tr>\n",
       "      <th>1</th>\n",
       "      <td>64516</td>\n",
       "      <td>e205ca7c8dd7c027</td>\n",
       "      <td>https://lh3.googleusercontent.com/-V3RjsZtGpxE...</td>\n",
       "      <td>0</td>\n",
       "    </tr>\n",
       "    <tr>\n",
       "      <th>2</th>\n",
       "      <td>928409</td>\n",
       "      <td>4e8ab93c1620e8a3</td>\n",
       "      <td>http://mw2.google.com/mw-panoramio/photos/medi...</td>\n",
       "      <td>0</td>\n",
       "    </tr>\n",
       "    <tr>\n",
       "      <th>3</th>\n",
       "      <td>88809</td>\n",
       "      <td>896bf928214d1ca4</td>\n",
       "      <td>http://lh5.ggpht.com/-Cy0l41uUaGA/R--yB8vy41I/...</td>\n",
       "      <td>0</td>\n",
       "    </tr>\n",
       "    <tr>\n",
       "      <th>4</th>\n",
       "      <td>1001133</td>\n",
       "      <td>375d2a153bdca926</td>\n",
       "      <td>http://lh6.ggpht.com/-UqzFpnqE9bU/S_0u1RovfdI/...</td>\n",
       "      <td>0</td>\n",
       "    </tr>\n",
       "  </tbody>\n",
       "</table>\n",
       "</div>"
      ],
      "text/plain": [
       "   image_id                id  \\\n",
       "0    465272  a2ccf8ed2e969f6a   \n",
       "1     64516  e205ca7c8dd7c027   \n",
       "2    928409  4e8ab93c1620e8a3   \n",
       "3     88809  896bf928214d1ca4   \n",
       "4   1001133  375d2a153bdca926   \n",
       "\n",
       "                                                 url  landmark_id  \n",
       "0  https://lh4.googleusercontent.com/-TPHkS5gzvm4...            0  \n",
       "1  https://lh3.googleusercontent.com/-V3RjsZtGpxE...            0  \n",
       "2  http://mw2.google.com/mw-panoramio/photos/medi...            0  \n",
       "3  http://lh5.ggpht.com/-Cy0l41uUaGA/R--yB8vy41I/...            0  \n",
       "4  http://lh6.ggpht.com/-UqzFpnqE9bU/S_0u1RovfdI/...            0  "
      ]
     },
     "execution_count": 3,
     "metadata": {},
     "output_type": "execute_result"
    }
   ],
   "source": [
    "train_df.head()"
   ]
  },
  {
   "cell_type": "markdown",
   "metadata": {},
   "source": [
    "# 2. Extract Features using VGG16 (No need to run)"
   ]
  },
  {
   "cell_type": "code",
   "execution_count": 4,
   "metadata": {},
   "outputs": [],
   "source": [
    "if not os.path.exists('./data/triplet/train_naive_vgg16_features.npy'):\n",
    "    # Load pre-trained VGG16\n",
    "    img_size = (224, 224, 3)\n",
    "    vgg16 = VGG16(include_top=False, weights='imagenet', input_shape=img_size, pooling='avg')\n",
    "    vgg16.summary()"
   ]
  },
  {
   "cell_type": "code",
   "execution_count": 5,
   "metadata": {},
   "outputs": [],
   "source": [
    "# Process training images\n",
    "if not os.path.exists('./data/triplet/train_naive_vgg16_features.npy'):\n",
    "    train_imgs = np.zeros(shape=(len(train_df), 512), dtype=np.float32)\n",
    "    img_ids = train_df['image_id'].values\n",
    "    steps = 20000\n",
    "    for i in range(0, len(train_df), steps):\n",
    "        tmp_imgs = []\n",
    "        print('\\nProcess: {:10d}'.format(i))\n",
    "\n",
    "        start = i\n",
    "        end = min(len(train_df), i + steps)\n",
    "        for idx in range(start, end):\n",
    "            if idx % 250 == 0:\n",
    "                print('=', end='')\n",
    "\n",
    "            img_id = img_ids[idx]\n",
    "            path = './data/triplet/train/' + str(img_id) + '.jpg'\n",
    "            img = load_img(path, target_size=img_size[:2])\n",
    "            img = img_to_array(img)\n",
    "            tmp_imgs.append(img)\n",
    "\n",
    "        tmp_imgs = np.array(tmp_imgs, dtype=np.float32) / 255.0\n",
    "        tmp_prediction = vgg16.predict(tmp_imgs)\n",
    "        train_imgs[start: end, ] = tmp_prediction\n",
    "        _ = gc.collect()\n",
    "        \n",
    "    # Save to disk\n",
    "    np.save('./data/triplet/train_naive_vgg16_features.npy', train_imgs)"
   ]
  },
  {
   "cell_type": "code",
   "execution_count": 6,
   "metadata": {},
   "outputs": [],
   "source": [
    "# Process validation images\n",
    "if not os.path.exists('./data/triplet/validation_naive_vgg16_features.npy'):\n",
    "    val_imgs = np.zeros(shape=(len(val_df), 512), dtype=np.float32)\n",
    "    img_ids = val_df['image_id'].values\n",
    "    steps = 4000\n",
    "    for i in range(0, len(val_df), steps):\n",
    "        tmp_imgs = []\n",
    "        print('\\nProcess: {:10d}'.format(i))\n",
    "\n",
    "        start = i\n",
    "        end = min(len(val_df), i + steps)\n",
    "        for idx in range(start, end):\n",
    "            if idx % 50 == 0:\n",
    "                print('=', end='')\n",
    "\n",
    "            img_id = img_ids[idx]\n",
    "            path = './data/triplet/validation/' + str(img_id) + '.jpg'\n",
    "            img = load_img(path, target_size=img_size[:2])\n",
    "            img = img_to_array(img)\n",
    "            tmp_imgs.append(img)\n",
    "\n",
    "        tmp_imgs = np.array(tmp_imgs, dtype=np.float32) / 255.0\n",
    "        tmp_prediction = vgg16.predict(tmp_imgs)\n",
    "        val_imgs[start: end, ] = tmp_prediction\n",
    "        _ = gc.collect()\n",
    "\n",
    "    # Save to disk\n",
    "    np.save('./data/triplet/validation_naive_vgg16_features.npy', val_imgs)"
   ]
  },
  {
   "cell_type": "code",
   "execution_count": 7,
   "metadata": {},
   "outputs": [],
   "source": [
    "# Process test images\n",
    "if not os.path.exists('./data/triplet/test_naive_vgg16_features.npy'):\n",
    "    test_imgs = np.zeros(shape=(len(test_df), 512), dtype=np.float32)\n",
    "    img_ids = test_df['image_id'].values\n",
    "    steps = 4000\n",
    "    for i in range(0, len(test_df), steps):\n",
    "        tmp_imgs = []\n",
    "        print('\\nProcess: {:10d}'.format(i))\n",
    "\n",
    "        start = i\n",
    "        end = min(len(test_df), i + steps)\n",
    "        for idx in range(start, end):\n",
    "            if idx % 50 == 0:\n",
    "                print('=', end='')\n",
    "\n",
    "            img_id = img_ids[idx]\n",
    "            path = './data/triplet/test/' + str(img_id) + '.jpg'\n",
    "            img = load_img(path, target_size=img_size[:2])\n",
    "            img = img_to_array(img)\n",
    "            tmp_imgs.append(img)\n",
    "\n",
    "        tmp_imgs = np.array(tmp_imgs, dtype=np.float32) / 255.0\n",
    "        tmp_prediction = vgg16.predict(tmp_imgs)\n",
    "        test_imgs[start: end, ] = tmp_prediction\n",
    "        _ = gc.collect()\n",
    "\n",
    "    # Save to disk\n",
    "    np.save('./data/triplet/test_naive_vgg16_features.npy', test_imgs)"
   ]
  },
  {
   "cell_type": "markdown",
   "metadata": {},
   "source": [
    "# 3. Load Features and Labels"
   ]
  },
  {
   "cell_type": "code",
   "execution_count": 8,
   "metadata": {},
   "outputs": [
    {
     "name": "stdout",
     "output_type": "stream",
     "text": [
      "Train:\t\t (113783, 512) (113783, 4)\n",
      "Validation:\t (22255, 512) (22255, 4)\n",
      "Test:\t\t (22391, 512) (22391, 4)\n"
     ]
    }
   ],
   "source": [
    "train_feature = np.load('./data/triplet/train_naive_vgg16_features.npy')\n",
    "val_feature = np.load('./data/triplet/validation_naive_vgg16_features.npy')\n",
    "test_feature = np.load('./data/triplet/test_naive_vgg16_features.npy')\n",
    "\n",
    "train_df = pd.read_csv('./data/triplet/train.csv')\n",
    "val_df = pd.read_csv('./data/triplet/validation.csv')\n",
    "test_df = pd.read_csv('./data/triplet/test.csv')\n",
    "\n",
    "print('Train:\\t\\t', train_feature.shape, train_df.shape)\n",
    "print('Validation:\\t', val_feature.shape, val_df.shape)\n",
    "print('Test:\\t\\t', test_feature.shape, test_df.shape)"
   ]
  },
  {
   "cell_type": "code",
   "execution_count": 9,
   "metadata": {},
   "outputs": [],
   "source": [
    "# Helper function\n",
    "def accuracy(true_label, prediction, top=1):\n",
    "    \"\"\" function to calculate the prediction accuracy \"\"\"\n",
    "    prediction = prediction[:, :top]\n",
    "    count = 0\n",
    "    for i in range(len(true_label)):\n",
    "        if true_label[i] in prediction[i]:\n",
    "            count += 1\n",
    "            \n",
    "    return count / len(true_label)"
   ]
  },
  {
   "cell_type": "markdown",
   "metadata": {},
   "source": [
    "# 4. Random Guess"
   ]
  },
  {
   "cell_type": "code",
   "execution_count": 10,
   "metadata": {},
   "outputs": [],
   "source": [
    "seed = 42\n",
    "random_guess = np.random.choice(train_df['landmark_id'].values, \n",
    "                                size=(len(test_df), 50), replace=True)\n",
    "np.save('./result/random_guess_test_prediction.npy', random_guess)"
   ]
  },
  {
   "cell_type": "code",
   "execution_count": 11,
   "metadata": {},
   "outputs": [
    {
     "name": "stdout",
     "output_type": "stream",
     "text": [
      "Top  1 accuracy:\t 0.00013398240364432138\n",
      "Top  5 accuracy:\t 0.0005359296145772855\n",
      "Top 10 accuracy:\t 0.0009825376267250233\n",
      "Top 20 accuracy:\t 0.0018310928498057254\n"
     ]
    }
   ],
   "source": [
    "print('Top  1 accuracy:\\t', accuracy(test_df['landmark_id'].values, random_guess, top=1))\n",
    "print('Top  5 accuracy:\\t', accuracy(test_df['landmark_id'].values, random_guess, top=5))\n",
    "print('Top 10 accuracy:\\t', accuracy(test_df['landmark_id'].values, random_guess, top=10))\n",
    "print('Top 20 accuracy:\\t', accuracy(test_df['landmark_id'].values, random_guess, top=20))"
   ]
  },
  {
   "cell_type": "code",
   "execution_count": 12,
   "metadata": {},
   "outputs": [],
   "source": [
    "random_acc = []\n",
    "for i in range(1, 51):\n",
    "    tmp_acc = accuracy(test_df['landmark_id'].values, random_guess, top=i)\n",
    "    random_acc.append(tmp_acc)\n",
    "\n",
    "np.save('./result/random_guess_accuracy.npy', random_acc)"
   ]
  },
  {
   "cell_type": "markdown",
   "metadata": {},
   "source": [
    "# 5. Implement KNN Model"
   ]
  },
  {
   "cell_type": "code",
   "execution_count": 13,
   "metadata": {},
   "outputs": [],
   "source": [
    "# Normalize features\n",
    "train_norm = np.linalg.norm(train_feature, axis=1, keepdims=True)\n",
    "val_norm = np.linalg.norm(val_feature, axis=1, keepdims=True)\n",
    "test_norm = np.linalg.norm(test_feature, axis=1, keepdims=True)\n",
    "\n",
    "train_norm_feature = train_feature / train_norm\n",
    "val_norm_feature = val_feature / val_norm\n",
    "test_norm_feature = test_feature / test_norm"
   ]
  },
  {
   "cell_type": "code",
   "execution_count": 14,
   "metadata": {},
   "outputs": [],
   "source": [
    "# Merge train and validation features\n",
    "train_val_norm_feature = np.concatenate((train_norm_feature, val_norm_feature), axis=0)\n",
    "train_val_df = pd.concat((train_df, val_df), axis=0)\n",
    "train_val_df = train_val_df.reset_index(drop=True)"
   ]
  },
  {
   "cell_type": "code",
   "execution_count": 15,
   "metadata": {},
   "outputs": [],
   "source": [
    "# Implement KNN model\n",
    "if not os.path.exists('./result/knn_naive_vgg16_distance.npy'):\n",
    "    knn = NearestNeighbors(n_neighbors=50, algorithm='auto', leaf_size=30, \n",
    "                           metric='minkowski', p=2, n_jobs=-1)\n",
    "    knn.fit(train_val_norm_feature)"
   ]
  },
  {
   "cell_type": "code",
   "execution_count": 16,
   "metadata": {},
   "outputs": [],
   "source": [
    "if not os.path.exists('./result/knn_naive_vgg16_distance.npy'):\n",
    "    # Search the first 50 neighbors\n",
    "    distance, neighbor_index = knn.kneighbors(test_norm_feature, return_distance=True)\n",
    "\n",
    "    # Save the results\n",
    "    np.save('./result/knn_naive_vgg16_distance.npy', distance)\n",
    "    np.save('./result/knn_naive_vgg16_neighbor.npy', neighbor_index)"
   ]
  },
  {
   "cell_type": "markdown",
   "metadata": {},
   "source": [
    "### Search Neighbors"
   ]
  },
  {
   "cell_type": "code",
   "execution_count": 18,
   "metadata": {},
   "outputs": [],
   "source": [
    "knn_distance = np.load('./result/knn_naive_vgg16_distance.npy')\n",
    "knn_neighbor = np.load('./result/knn_naive_vgg16_neighbor.npy')\n",
    "\n",
    "# Get the first 50 neighbors\n",
    "predictions = []\n",
    "for neighbors in knn_neighbor:\n",
    "    predictions.append(train_val_df.loc[neighbors]['landmark_id'].values)\n",
    "\n",
    "predictions = np.array(predictions)\n",
    "np.save('./result/knn_naive_vgg16_test_prediction.npy', predictions)"
   ]
  },
  {
   "cell_type": "markdown",
   "metadata": {},
   "source": [
    "### Compute Accuracy"
   ]
  },
  {
   "cell_type": "code",
   "execution_count": 19,
   "metadata": {},
   "outputs": [
    {
     "name": "stdout",
     "output_type": "stream",
     "text": [
      "Top  1 accuracy:\t 0.31892278147469966\n",
      "Top  5 accuracy:\t 0.44397302487606627\n",
      "Top 10 accuracy:\t 0.49868250636416417\n",
      "Top 20 accuracy:\t 0.556384261533652\n"
     ]
    }
   ],
   "source": [
    "print('Top  1 accuracy:\\t', accuracy(test_df['landmark_id'].values, predictions, top=1))\n",
    "print('Top  5 accuracy:\\t', accuracy(test_df['landmark_id'].values, predictions, top=5))\n",
    "print('Top 10 accuracy:\\t', accuracy(test_df['landmark_id'].values, predictions, top=10))\n",
    "print('Top 20 accuracy:\\t', accuracy(test_df['landmark_id'].values, predictions, top=20))"
   ]
  },
  {
   "cell_type": "code",
   "execution_count": 20,
   "metadata": {},
   "outputs": [],
   "source": [
    "knn_acc = []\n",
    "for i in range(1, 51):\n",
    "    tmp_acc = accuracy(test_df['landmark_id'].values, predictions, top=i)\n",
    "    knn_acc.append(tmp_acc)\n",
    "\n",
    "np.save('./result/knn_naive_vgg16_accuracy.npy', knn_acc)"
   ]
  }
 ],
 "metadata": {
  "kernelspec": {
   "display_name": "Environment (conda_tensorflow_p36)",
   "language": "python",
   "name": "conda_tensorflow_p36"
  },
  "language_info": {
   "codemirror_mode": {
    "name": "ipython",
    "version": 3
   },
   "file_extension": ".py",
   "mimetype": "text/x-python",
   "name": "python",
   "nbconvert_exporter": "python",
   "pygments_lexer": "ipython3",
   "version": "3.6.4"
  }
 },
 "nbformat": 4,
 "nbformat_minor": 2
}
